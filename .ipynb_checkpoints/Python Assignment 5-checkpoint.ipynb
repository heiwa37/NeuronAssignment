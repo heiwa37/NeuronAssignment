{
 "cells": [
  {
   "cell_type": "markdown",
   "metadata": {},
   "source": [
    "## 1. Write a function to compute 5/0 and use try/except to catch the exceptions"
   ]
  },
  {
   "cell_type": "code",
   "execution_count": null,
   "metadata": {},
   "outputs": [],
   "source": [
    "try:\n",
    "    divident=int(input(\"Please enter the Numerator: \"))\n",
    "    divisor=int(input(\"Please enter the Denominator: \"))\n",
    "    result=divident/divisor\n",
    "    print(\"The quotient is : \",result)\n",
    "except ZeroDivisionError:\n",
    "    print(\"You are trying to divide by zero! which is not possible. Please enter different number..!\")\n",
    "finally:\n",
    "    print(\"Program Finished!\")"
   ]
  },
  {
   "cell_type": "markdown",
   "metadata": {},
   "source": [
    "## 2. Implement a Python program to generate all sentences where subject is in[\"Americans\", \"Indians\"] and verb is in [\"Play\", \"watch\"] and the object is in [\"Baseball\",\"cricket\"]."
   ]
  },
  {
   "cell_type": "code",
   "execution_count": null,
   "metadata": {},
   "outputs": [],
   "source": [
    "try:\n",
    "    list1= input(\"Please input the Subject:  \" ).split()  #[\"Americans \", \"Indians\"]\n",
    "    list2= input(\"Please input the verb :\").split() #[\"play\", \"watch\"]\n",
    "    list3=input(\"Please input objects of the sentences: \" ) .split()  #[\"Baseball\", \"Cricket\"]\n",
    "    result=[]\n",
    "    for i in range(len(list1)):\n",
    "        for j in range(len(list2)):\n",
    "            for k in range(len(list3)):\n",
    "                result.append(list1[i]+\" \"+list2[j]+\" \"+list3[k] )\n",
    "    print(\"\\n\".join(result))\n",
    "except:\n",
    "    print(\"Please check the input!\")"
   ]
  }
 ],
 "metadata": {
  "kernelspec": {
   "display_name": "Python 3",
   "language": "python",
   "name": "python3"
  },
  "language_info": {
   "codemirror_mode": {
    "name": "ipython",
    "version": 3
   },
   "file_extension": ".py",
   "mimetype": "text/x-python",
   "name": "python",
   "nbconvert_exporter": "python",
   "pygments_lexer": "ipython3",
   "version": "3.7.4"
  }
 },
 "nbformat": 4,
 "nbformat_minor": 2
}
