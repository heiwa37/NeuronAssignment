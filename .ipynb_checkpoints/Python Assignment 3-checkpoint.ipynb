{
 "cells": [
  {
   "cell_type": "markdown",
   "metadata": {},
   "source": [
    "## 1.1 Write a Python Program to implement your own myreduce() function which works exactly like Python's built-in function reduce()\n"
   ]
  },
  {
   "cell_type": "code",
   "execution_count": 13,
   "metadata": {},
   "outputs": [
    {
     "name": "stdout",
     "output_type": "stream",
     "text": [
      "Welcome to built-in product function\n",
      "please enter the list: 1 2 4\n",
      "[1, 2, 4]\n",
      "The product of given list items are:  8\n"
     ]
    }
   ],
   "source": [
    "# building product of data function provided in the list\n",
    "# data=[1,2,4,5,6,7]\n",
    "print (\"Welcome to built-in product function\")\n",
    "input_str1= input(\"please enter the list: \")\n",
    "input_arr=list(map(int, input_str1.split()))\n",
    "print(input_arr)\n",
    "product= 1\n",
    "for x in input_arr:\n",
    "    product = product * x\n",
    "print(\"The product of given list items are: \" , product)\n"
   ]
  },
  {
   "cell_type": "markdown",
   "metadata": {},
   "source": [
    "## 1.2 Write a Python program to implement your own myfilter() function which works exactly like Python's built-in function filter()"
   ]
  },
  {
   "cell_type": "code",
   "execution_count": 33,
   "metadata": {},
   "outputs": [
    {
     "name": "stdout",
     "output_type": "stream",
     "text": [
      "please enter the list: 1 2 4 6 710 35 45 65\n",
      "The multilple of 5 in the list are  [710, 35, 45, 65]\n"
     ]
    }
   ],
   "source": [
    "# Building built-in multiple of 5 function\n",
    "#data=[1,2,5,10,4,6]\n",
    "input_str1= input(\"please enter the list: \")\n",
    "input_arr=list(map(int, input_str1.split()))\n",
    "out_list=[]\n",
    "for i in input_arr:\n",
    "    if(i%5==0):\n",
    "        out_list.append(i)\n",
    "print(\"The multilple of 5 in the list are \" ,out_list)\n",
    "    \n",
    "    "
   ]
  },
  {
   "cell_type": "markdown",
   "metadata": {},
   "source": [
    "## 2.Implement List comprehensions to produce the following lists.\n",
    "\n",
    "Write List comprehensions to produce the following Lists\n",
    "\n",
    "['x', 'xx', 'xxx', 'xxxx', 'y', 'yy', 'yyy', 'yyyy', 'z', 'zz', 'zzz', 'zzzz']\n",
    "\n",
    "['x', 'y', 'z', 'xx', 'yy', 'zz', 'xxx', 'yyy', 'zzz', 'xxxx', 'yyyy', 'zzzz']\n",
    "\n",
    "[[2], [3], [4], [3], [4], [5], [4], [5], [6]] \n",
    "\n",
    "[[2, 3, 4, 5], [3, 4, 5, 6], [4, 5, 6, 7], [5, 6, 7, 8]]\n",
    "\n",
    "[(1, 1), (2, 1), (3, 1), (1, 2), (2, 2), (3, 2), (1, 3), (2, 3), (3, 3)]\n",
    "\n"
   ]
  },
  {
   "cell_type": "code",
   "execution_count": 34,
   "metadata": {},
   "outputs": [
    {
     "name": "stdout",
     "output_type": "stream",
     "text": [
      "['x', 'xx', 'xxx', 'xxxx', 'y', 'yy', 'yyy', 'yyyy', 'z', 'zz', 'zzz', 'zzzz'] \n",
      "\n",
      "['x', 'y', 'z', 'xx', 'yy', 'zz', 'xxx', 'yyy', 'zzz', 'xxxx', 'yyyy', 'zzzz'] \n",
      "\n",
      "[[2], [3], [4], [3], [4], [5], [4], [5], [6]] \n",
      "\n",
      "[2, 3, 4, 5, 3, 4, 5, 6, 4, 5, 6, 7, 5, 6, 7, 8] \n",
      "\n",
      "[(1, 1), (2, 1), (3, 1), (1, 2), (2, 2), (3, 2), (1, 3), (2, 3), (3, 3)]\n"
     ]
    }
   ],
   "source": [
    "input=['x','y','z']\n",
    "output=[i*j for i in input for j in range(1,5)]\n",
    "print(output,'\\n')\n",
    "\n",
    "input=['x','y','z']\n",
    "output=[i*j for i in range(1,5) for j in input]\n",
    "print(output,'\\n')\n",
    "\n",
    "input_list=[2,3,4]\n",
    "output=[[i+num] for i in input_list for num in range(0,3)]\n",
    "print(output,'\\n')\n",
    "\n",
    "input_list=[2,3,4,5]\n",
    "output=[i+num for i in input_list for num in range(0,4)]\n",
    "print(str(output),'\\n')\n",
    "\n",
    "input=[1,2,3]\n",
    "output=[(j,i) for i in input for j in input]\n",
    "print(output)\n"
   ]
  },
  {
   "cell_type": "code",
   "execution_count": null,
   "metadata": {},
   "outputs": [],
   "source": []
  },
  {
   "cell_type": "code",
   "execution_count": null,
   "metadata": {},
   "outputs": [],
   "source": []
  }
 ],
 "metadata": {
  "kernelspec": {
   "display_name": "Python 3",
   "language": "python",
   "name": "python3"
  },
  "language_info": {
   "codemirror_mode": {
    "name": "ipython",
    "version": 3
   },
   "file_extension": ".py",
   "mimetype": "text/x-python",
   "name": "python",
   "nbconvert_exporter": "python",
   "pygments_lexer": "ipython3",
   "version": "3.7.4"
  }
 },
 "nbformat": 4,
 "nbformat_minor": 2
}
