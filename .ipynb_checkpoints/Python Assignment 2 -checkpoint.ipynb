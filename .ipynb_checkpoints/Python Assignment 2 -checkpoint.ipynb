{
 "cells": [
  {
   "cell_type": "markdown",
   "metadata": {},
   "source": [
    "# Python Assignment 2 - Strings "
   ]
  },
  {
   "cell_type": "markdown",
   "metadata": {},
   "source": [
    "## 1. Create the below pattern using nested for loop in Python."
   ]
  },
  {
   "cell_type": "code",
   "execution_count": 1,
   "metadata": {},
   "outputs": [
    {
     "name": "stdout",
     "output_type": "stream",
     "text": [
      "Print the number of rows to be printed on the pattern: 6\n",
      "* \n",
      "* * \n",
      "* * * \n",
      "* * * * \n",
      "* * * * * \n",
      "* * * * * * \n",
      "* * * * * \n",
      "* * * * \n",
      "* * * \n",
      "* * \n",
      "* \n",
      "\n"
     ]
    }
   ],
   "source": [
    "try:\n",
    "    data_len=int(input(\"Print the number of rows to be printed on the pattern: \"))\n",
    "    for i in range(0,data_len):\n",
    "        for j in range(0,i+1):\n",
    "            print(\"*\",end=\" \")\n",
    "        print(\"\\r\")\n",
    "    for i in range(data_len,0,-1):\n",
    "        for j in range(0,i-1):\n",
    "            print(\"*\",end=\" \")\n",
    "        print(\"\\r\")\n",
    "except ValueError:\n",
    "    print(\"\\nInvalid data format! Please Enter Integer number\")"
   ]
  },
  {
   "cell_type": "markdown",
   "metadata": {},
   "source": [
    "## 2. Write a Python program to reverse a word after accepting the input from the user"
   ]
  },
  {
   "cell_type": "code",
   "execution_count": 3,
   "metadata": {},
   "outputs": [
    {
     "name": "stdout",
     "output_type": "stream",
     "text": [
      "Please enter a word which need to be reversed: ineuron\n",
      "Reversed string is :  norueni\n"
     ]
    }
   ],
   "source": [
    "data = input(\"Please enter a word which need to be reversed: \")\n",
    "result=data[::-1]\n",
    "print(\"Reversed string is : \",result)"
   ]
  },
  {
   "cell_type": "code",
   "execution_count": null,
   "metadata": {},
   "outputs": [],
   "source": []
  }
 ],
 "metadata": {
  "kernelspec": {
   "display_name": "Python 3",
   "language": "python",
   "name": "python3"
  },
  "language_info": {
   "codemirror_mode": {
    "name": "ipython",
    "version": 3
   },
   "file_extension": ".py",
   "mimetype": "text/x-python",
   "name": "python",
   "nbconvert_exporter": "python",
   "pygments_lexer": "ipython3",
   "version": "3.7.4"
  }
 },
 "nbformat": 4,
 "nbformat_minor": 2
}
