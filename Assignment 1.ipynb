{
 "cells": [
  {
   "cell_type": "markdown",
   "metadata": {},
   "source": [
    "# Assignment 1\n"
   ]
  },
  {
   "cell_type": "markdown",
   "metadata": {},
   "source": [
    "##### 1.Write a program which will find all such numbers which are divisible by 7 but are not a multiple of 5, between 2000 and 3200 (both included). The numbers obtained should be printed in a comma-separated sequence on a single line."
   ]
  },
  {
   "cell_type": "code",
   "execution_count": null,
   "metadata": {},
   "outputs": [],
   "source": [
    "number_list=[]   # initializing empty list\n",
    "for i in range(2000,3200):     #iterating and appending to the list\n",
    "    if(i%7==0)and (i%5!=0):\n",
    "        number_list.append(str(i))\n",
    "print(','.join(number_list)) # printing the list"
   ]
  },
  {
   "cell_type": "markdown",
   "metadata": {},
   "source": [
    "##### 2.Write a Python program to accept the user's first and last name and then getting them printed in the the reverse order with a space between first name and last name."
   ]
  },
  {
   "cell_type": "code",
   "execution_count": null,
   "metadata": {},
   "outputs": [],
   "source": [
    "first_name=input(\"Please enter your First name = \")\n",
    "last_name=input(\"Please enter your last name = \")\n",
    "if(first_name.isdigit() | last_name.isdigit()):\n",
    "    print(\"Numbers are not allowed! Please enter your Name!\")\n",
    "else:\n",
    "    print(\"The given name is printed in reverse order : {last_name} {first_name}\".format(last_name=last_name,first_name=first_name))"
   ]
  },
  {
   "cell_type": "markdown",
   "metadata": {},
   "source": [
    "##### 3.Write a Python program to find the volume of a sphere with diameter 12 cm. Formula: V=4/3 * π * r 3."
   ]
  },
  {
   "cell_type": "code",
   "execution_count": null,
   "metadata": {},
   "outputs": [],
   "source": [
    "import math\n",
    "def volume_sphere(diameter):\n",
    "    radius=diameter/2\n",
    "    v_sphere= (4/3*math.pi * radius**3)\n",
    "    return v_sphere\n",
    "print('Program to calculate the volume of sphere! ')\n",
    "data_input=int(input(\"Please enter the diameter of the sphere = \"))\n",
    "result=volume_sphere(data_input)\n",
    "print(\"The volume of the sphere is {} with given diameter of {}cm\".format(result,data_input))\n"
   ]
  },
  {
   "cell_type": "code",
   "execution_count": null,
   "metadata": {},
   "outputs": [],
   "source": []
  },
  {
   "cell_type": "code",
   "execution_count": null,
   "metadata": {},
   "outputs": [],
   "source": []
  }
 ],
 "metadata": {
  "kernelspec": {
   "display_name": "Python 3",
   "language": "python",
   "name": "python3"
  },
  "language_info": {
   "codemirror_mode": {
    "name": "ipython",
    "version": 3
   },
   "file_extension": ".py",
   "mimetype": "text/x-python",
   "name": "python",
   "nbconvert_exporter": "python",
   "pygments_lexer": "ipython3",
   "version": "3.7.4"
  }
 },
 "nbformat": 4,
 "nbformat_minor": 2
}
